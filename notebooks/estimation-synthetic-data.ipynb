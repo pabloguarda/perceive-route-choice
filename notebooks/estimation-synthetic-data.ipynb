{
 "cells": [
  {
   "cell_type": "markdown",
   "metadata": {},
   "source": [
    "# 1) Setup"
   ]
  },
  {
   "cell_type": "code",
   "execution_count": 1,
   "metadata": {},
   "outputs": [],
   "source": [
    "#closeAllConnections() #Remove all the data\n",
    "rm(list=ls()) #remove all variables"
   ]
  },
  {
   "cell_type": "markdown",
   "metadata": {},
   "source": [
    "# 2) Packages"
   ]
  },
  {
   "cell_type": "code",
   "execution_count": 2,
   "metadata": {},
   "outputs": [],
   "source": [
    "libraries <- c(\"randomizr\",\"maxLik\")"
   ]
  },
  {
   "cell_type": "code",
   "execution_count": 3,
   "metadata": {},
   "outputs": [
    {
     "name": "stderr",
     "output_type": "stream",
     "text": [
      "Loading required package: randomizr\n",
      "Loading required package: maxLik\n",
      "Loading required package: miscTools\n",
      "\n",
      "Please cite the 'maxLik' package as:\n",
      "Henningsen, Arne and Toomet, Ott (2011). maxLik: A package for maximum likelihood estimation in R. Computational Statistics 26(3), 443-458. DOI 10.1007/s00180-010-0217-1.\n",
      "\n",
      "If you have questions, suggestions, or comments regarding the 'maxLik' package, please use a forum or 'tracker' at maxLik's R-Forge site:\n",
      "https://r-forge.r-project.org/projects/maxlik/\n"
     ]
    }
   ],
   "source": [
    "for(i in 1:length(libraries)){\n",
    "  if(!require(package = libraries[i],character.only = TRUE)) \n",
    "    install.packages(libraries[i])\n",
    "}"
   ]
  },
  {
   "cell_type": "markdown",
   "metadata": {},
   "source": [
    "# 3) Experiment"
   ]
  },
  {
   "cell_type": "code",
   "execution_count": 4,
   "metadata": {},
   "outputs": [],
   "source": [
    "set.seed(3) #For reproducibility"
   ]
  },
  {
   "cell_type": "markdown",
   "metadata": {},
   "source": [
    "## a) Choice scenarios"
   ]
  },
  {
   "cell_type": "code",
   "execution_count": 5,
   "metadata": {},
   "outputs": [],
   "source": [
    "choiceScenario1 <- c(w1 = 4, v1 = 6, w2 = 6, v2 = 6) \n",
    "choiceScenario2 <- c(w1 = 6, v1 = 4, w2 = 6, v2 = 6) \n",
    "choiceScenario3 <- c(w1 = 4, v1 = 6, w2 = 6, v2 = 4) \n",
    "choiceScenario4 <- c(w1 = 1, v1 = 9, w2 = 9, v2 = 1) \n",
    "choiceScenario5 <- c(w1 = 2, v1 = 9, w2 = 8, v2 = 2) \n",
    "choiceScenario6 <- c(w1 = 3, v1 = 8, w2 = 8, v2 = 2) \n",
    "choiceScenario7 <- c(w1 = 8, v1 = 1, w2 = 2, v2 = 8) \n",
    "choiceScenario8 <- c(w1 = 7, v1 = 2, w2 = 2, v2 = 8) "
   ]
  },
  {
   "cell_type": "code",
   "execution_count": 6,
   "metadata": {},
   "outputs": [
    {
     "data": {
      "text/html": [
       "<table>\n",
       "<thead><tr><th scope=col>scenario</th><th scope=col>w1</th><th scope=col>v1</th><th scope=col>w2</th><th scope=col>v2</th></tr></thead>\n",
       "<tbody>\n",
       "\t<tr><td>s1</td><td>4 </td><td>6 </td><td>6 </td><td>6 </td></tr>\n",
       "\t<tr><td>s2</td><td>6 </td><td>4 </td><td>6 </td><td>6 </td></tr>\n",
       "\t<tr><td>s3</td><td>4 </td><td>6 </td><td>6 </td><td>4 </td></tr>\n",
       "\t<tr><td>s4</td><td>1 </td><td>9 </td><td>9 </td><td>1 </td></tr>\n",
       "\t<tr><td>s5</td><td>2 </td><td>9 </td><td>8 </td><td>2 </td></tr>\n",
       "\t<tr><td>s6</td><td>3 </td><td>8 </td><td>8 </td><td>2 </td></tr>\n",
       "\t<tr><td>s7</td><td>8 </td><td>1 </td><td>2 </td><td>8 </td></tr>\n",
       "\t<tr><td>s8</td><td>7 </td><td>2 </td><td>2 </td><td>8 </td></tr>\n",
       "</tbody>\n",
       "</table>\n"
      ],
      "text/latex": [
       "\\begin{tabular}{r|lllll}\n",
       " scenario & w1 & v1 & w2 & v2\\\\\n",
       "\\hline\n",
       "\t s1 & 4  & 6  & 6  & 6 \\\\\n",
       "\t s2 & 6  & 4  & 6  & 6 \\\\\n",
       "\t s3 & 4  & 6  & 6  & 4 \\\\\n",
       "\t s4 & 1  & 9  & 9  & 1 \\\\\n",
       "\t s5 & 2  & 9  & 8  & 2 \\\\\n",
       "\t s6 & 3  & 8  & 8  & 2 \\\\\n",
       "\t s7 & 8  & 1  & 2  & 8 \\\\\n",
       "\t s8 & 7  & 2  & 2  & 8 \\\\\n",
       "\\end{tabular}\n"
      ],
      "text/markdown": [
       "\n",
       "scenario | w1 | v1 | w2 | v2 | \n",
       "|---|---|---|---|---|---|---|---|\n",
       "| s1 | 4  | 6  | 6  | 6  | \n",
       "| s2 | 6  | 4  | 6  | 6  | \n",
       "| s3 | 4  | 6  | 6  | 4  | \n",
       "| s4 | 1  | 9  | 9  | 1  | \n",
       "| s5 | 2  | 9  | 8  | 2  | \n",
       "| s6 | 3  | 8  | 8  | 2  | \n",
       "| s7 | 8  | 1  | 2  | 8  | \n",
       "| s8 | 7  | 2  | 2  | 8  | \n",
       "\n",
       "\n"
      ],
      "text/plain": [
       "  scenario w1 v1 w2 v2\n",
       "1 s1       4  6  6  6 \n",
       "2 s2       6  4  6  6 \n",
       "3 s3       4  6  6  4 \n",
       "4 s4       1  9  9  1 \n",
       "5 s5       2  9  8  2 \n",
       "6 s6       3  8  8  2 \n",
       "7 s7       8  1  2  8 \n",
       "8 s8       7  2  2  8 "
      ]
     },
     "metadata": {},
     "output_type": "display_data"
    }
   ],
   "source": [
    "choiceScenarios <- rbind(s1 = choiceScenario1,s2 = choiceScenario2, s3 = choiceScenario3,s4= choiceScenario4\n",
    "                         , s5 = choiceScenario5, s6 = choiceScenario6, s7= choiceScenario7, s8 = choiceScenario8)\n",
    "\n",
    "choiceScenarios <- as.data.frame(choiceScenarios)\n",
    "\n",
    "choiceScenarios$scenario <- rownames(choiceScenarios); rownames(choiceScenarios) <- NULL\n",
    "\n",
    "choiceScenarios <- choiceScenarios[,c(\"scenario\",\"w1\",\"v1\",\"w2\",\"v2\")]\n",
    "\n",
    "choiceScenarios"
   ]
  },
  {
   "cell_type": "markdown",
   "metadata": {},
   "source": [
    "## b) Build dataset"
   ]
  },
  {
   "cell_type": "markdown",
   "metadata": {},
   "source": [
    "### i) Parameters"
   ]
  },
  {
   "cell_type": "code",
   "execution_count": 7,
   "metadata": {},
   "outputs": [],
   "source": [
    "cdata <- data.frame() # Choice data\n",
    "nScenarios <- 8 # Number of choice scenario\n",
    "nAlternatives <- 2 #Alternatives per scenario\n",
    "nIndividuals <- 10*72 # Number of individuals (72)\n",
    "nExperimentalConditions <- 2 #Control and Treatment conditions\n",
    "nExperimentTypes <- 2 #Numeric or animated"
   ]
  },
  {
   "cell_type": "markdown",
   "metadata": {},
   "source": [
    "### ii) Create Dataset"
   ]
  },
  {
   "cell_type": "code",
   "execution_count": 8,
   "metadata": {},
   "outputs": [],
   "source": [
    "#Create 8 scenarios per individual \n",
    "for(nIndividual in 1:nIndividuals){\n",
    "    \n",
    "    cdata <- rbind(cdata,cbind(individual = nIndividual,choiceScenarios))\n",
    "}\n",
    "\n",
    "#Duplicate the observations per individuals as there are two types of experiment, with the same scenarios.\n",
    "cdata  <- rbind(cbind(cdata, experimentType = \"animated\"),cbind(cdata, experimentType = \"numeric\"))"
   ]
  },
  {
   "cell_type": "code",
   "execution_count": 9,
   "metadata": {},
   "outputs": [],
   "source": [
    "cdata$experimentType <- as.character(cdata$experimentType)"
   ]
  },
  {
   "cell_type": "code",
   "execution_count": 10,
   "metadata": {},
   "outputs": [
    {
     "data": {
      "text/html": [
       "11520"
      ],
      "text/latex": [
       "11520"
      ],
      "text/markdown": [
       "11520"
      ],
      "text/plain": [
       "[1] 11520"
      ]
     },
     "metadata": {},
     "output_type": "display_data"
    }
   ],
   "source": [
    "nObservations <- dim(cdata)[1]; nObservations"
   ]
  },
  {
   "cell_type": "code",
   "execution_count": 11,
   "metadata": {},
   "outputs": [
    {
     "data": {
      "text/html": [
       "<table>\n",
       "<thead><tr><th scope=col>individual</th><th scope=col>scenario</th><th scope=col>w1</th><th scope=col>v1</th><th scope=col>w2</th><th scope=col>v2</th><th scope=col>experimentType</th></tr></thead>\n",
       "<tbody>\n",
       "\t<tr><td>1       </td><td>s1      </td><td>4       </td><td>6       </td><td>6       </td><td>6       </td><td>animated</td></tr>\n",
       "\t<tr><td>1       </td><td>s2      </td><td>6       </td><td>4       </td><td>6       </td><td>6       </td><td>animated</td></tr>\n",
       "\t<tr><td>1       </td><td>s3      </td><td>4       </td><td>6       </td><td>6       </td><td>4       </td><td>animated</td></tr>\n",
       "\t<tr><td>1       </td><td>s4      </td><td>1       </td><td>9       </td><td>9       </td><td>1       </td><td>animated</td></tr>\n",
       "\t<tr><td>1       </td><td>s5      </td><td>2       </td><td>9       </td><td>8       </td><td>2       </td><td>animated</td></tr>\n",
       "\t<tr><td>1       </td><td>s6      </td><td>3       </td><td>8       </td><td>8       </td><td>2       </td><td>animated</td></tr>\n",
       "</tbody>\n",
       "</table>\n"
      ],
      "text/latex": [
       "\\begin{tabular}{r|lllllll}\n",
       " individual & scenario & w1 & v1 & w2 & v2 & experimentType\\\\\n",
       "\\hline\n",
       "\t 1        & s1       & 4        & 6        & 6        & 6        & animated\\\\\n",
       "\t 1        & s2       & 6        & 4        & 6        & 6        & animated\\\\\n",
       "\t 1        & s3       & 4        & 6        & 6        & 4        & animated\\\\\n",
       "\t 1        & s4       & 1        & 9        & 9        & 1        & animated\\\\\n",
       "\t 1        & s5       & 2        & 9        & 8        & 2        & animated\\\\\n",
       "\t 1        & s6       & 3        & 8        & 8        & 2        & animated\\\\\n",
       "\\end{tabular}\n"
      ],
      "text/markdown": [
       "\n",
       "individual | scenario | w1 | v1 | w2 | v2 | experimentType | \n",
       "|---|---|---|---|---|---|\n",
       "| 1        | s1       | 4        | 6        | 6        | 6        | animated | \n",
       "| 1        | s2       | 6        | 4        | 6        | 6        | animated | \n",
       "| 1        | s3       | 4        | 6        | 6        | 4        | animated | \n",
       "| 1        | s4       | 1        | 9        | 9        | 1        | animated | \n",
       "| 1        | s5       | 2        | 9        | 8        | 2        | animated | \n",
       "| 1        | s6       | 3        | 8        | 8        | 2        | animated | \n",
       "\n",
       "\n"
      ],
      "text/plain": [
       "  individual scenario w1 v1 w2 v2 experimentType\n",
       "1 1          s1       4  6  6  6  animated      \n",
       "2 1          s2       6  4  6  6  animated      \n",
       "3 1          s3       4  6  6  4  animated      \n",
       "4 1          s4       1  9  9  1  animated      \n",
       "5 1          s5       2  9  8  2  animated      \n",
       "6 1          s6       3  8  8  2  animated      "
      ]
     },
     "metadata": {},
     "output_type": "display_data"
    }
   ],
   "source": [
    "head(cdata)"
   ]
  },
  {
   "cell_type": "markdown",
   "metadata": {},
   "source": [
    "### iii) Random assignment"
   ]
  },
  {
   "cell_type": "code",
   "execution_count": 12,
   "metadata": {},
   "outputs": [],
   "source": [
    "#library(randomizr)\n",
    "experimentalCondition <- complete_ra(N = nIndividuals, m = nIndividuals/2) \n",
    "experimentalCondition <- ifelse(experimentalCondition == 0, \"control\",\"treatment\")\n",
    "nIndividualsConditions <- data.frame(individual = 1:nIndividual,experimentalCondition = experimentalCondition)"
   ]
  },
  {
   "cell_type": "code",
   "execution_count": 13,
   "metadata": {},
   "outputs": [],
   "source": [
    "cdata <- merge(cdata, nIndividualsConditions, by = \"individual\")"
   ]
  },
  {
   "cell_type": "code",
   "execution_count": 14,
   "metadata": {},
   "outputs": [
    {
     "data": {
      "text/html": [
       "<table>\n",
       "<thead><tr><th scope=col>individual</th><th scope=col>scenario</th><th scope=col>w1</th><th scope=col>v1</th><th scope=col>w2</th><th scope=col>v2</th><th scope=col>experimentType</th><th scope=col>experimentalCondition</th></tr></thead>\n",
       "<tbody>\n",
       "\t<tr><td>1       </td><td>s1      </td><td>4       </td><td>6       </td><td>6       </td><td>6       </td><td>animated</td><td>control </td></tr>\n",
       "\t<tr><td>1       </td><td>s2      </td><td>6       </td><td>4       </td><td>6       </td><td>6       </td><td>animated</td><td>control </td></tr>\n",
       "\t<tr><td>1       </td><td>s3      </td><td>4       </td><td>6       </td><td>6       </td><td>4       </td><td>animated</td><td>control </td></tr>\n",
       "\t<tr><td>1       </td><td>s4      </td><td>1       </td><td>9       </td><td>9       </td><td>1       </td><td>animated</td><td>control </td></tr>\n",
       "\t<tr><td>1       </td><td>s5      </td><td>2       </td><td>9       </td><td>8       </td><td>2       </td><td>animated</td><td>control </td></tr>\n",
       "\t<tr><td>1       </td><td>s6      </td><td>3       </td><td>8       </td><td>8       </td><td>2       </td><td>animated</td><td>control </td></tr>\n",
       "</tbody>\n",
       "</table>\n"
      ],
      "text/latex": [
       "\\begin{tabular}{r|llllllll}\n",
       " individual & scenario & w1 & v1 & w2 & v2 & experimentType & experimentalCondition\\\\\n",
       "\\hline\n",
       "\t 1        & s1       & 4        & 6        & 6        & 6        & animated & control \\\\\n",
       "\t 1        & s2       & 6        & 4        & 6        & 6        & animated & control \\\\\n",
       "\t 1        & s3       & 4        & 6        & 6        & 4        & animated & control \\\\\n",
       "\t 1        & s4       & 1        & 9        & 9        & 1        & animated & control \\\\\n",
       "\t 1        & s5       & 2        & 9        & 8        & 2        & animated & control \\\\\n",
       "\t 1        & s6       & 3        & 8        & 8        & 2        & animated & control \\\\\n",
       "\\end{tabular}\n"
      ],
      "text/markdown": [
       "\n",
       "individual | scenario | w1 | v1 | w2 | v2 | experimentType | experimentalCondition | \n",
       "|---|---|---|---|---|---|\n",
       "| 1        | s1       | 4        | 6        | 6        | 6        | animated | control  | \n",
       "| 1        | s2       | 6        | 4        | 6        | 6        | animated | control  | \n",
       "| 1        | s3       | 4        | 6        | 6        | 4        | animated | control  | \n",
       "| 1        | s4       | 1        | 9        | 9        | 1        | animated | control  | \n",
       "| 1        | s5       | 2        | 9        | 8        | 2        | animated | control  | \n",
       "| 1        | s6       | 3        | 8        | 8        | 2        | animated | control  | \n",
       "\n",
       "\n"
      ],
      "text/plain": [
       "  individual scenario w1 v1 w2 v2 experimentType experimentalCondition\n",
       "1 1          s1       4  6  6  6  animated       control              \n",
       "2 1          s2       6  4  6  6  animated       control              \n",
       "3 1          s3       4  6  6  4  animated       control              \n",
       "4 1          s4       1  9  9  1  animated       control              \n",
       "5 1          s5       2  9  8  2  animated       control              \n",
       "6 1          s6       3  8  8  2  animated       control              "
      ]
     },
     "metadata": {},
     "output_type": "display_data"
    }
   ],
   "source": [
    "head(cdata)"
   ]
  },
  {
   "cell_type": "markdown",
   "metadata": {},
   "source": [
    "## c) Choices"
   ]
  },
  {
   "cell_type": "markdown",
   "metadata": {},
   "source": [
    "### i) General parameters of utility function"
   ]
  },
  {
   "cell_type": "code",
   "execution_count": 15,
   "metadata": {},
   "outputs": [],
   "source": [
    "simulationParametersNumeric <- list()\n",
    "simulationParametersAnimated <- list()"
   ]
  },
  {
   "cell_type": "markdown",
   "metadata": {},
   "source": [
    "#### - Preferences for waiting and in-vehicle times"
   ]
  },
  {
   "cell_type": "code",
   "execution_count": 16,
   "metadata": {},
   "outputs": [],
   "source": [
    "# Marginal rate of substitution of waiting for travelling\n",
    "mrs <- 2\n",
    "\n",
    "# Preferences for waiting and travelling\n",
    "bv <- -1\n",
    "bw <-mrs*bv\n",
    "\n",
    "#Preferences are the same for all experiments\n",
    "simulationParametersNumeric[[\"bw\"]] <- simulationParametersAnimated[[\"bw\"]] <- bw\n",
    "simulationParametersNumeric[[\"bv\"]] <- simulationParametersAnimated[[\"bv\"]] <- bv"
   ]
  },
  {
   "cell_type": "markdown",
   "metadata": {},
   "source": [
    "#### - Time perception functions"
   ]
  },
  {
   "cell_type": "markdown",
   "metadata": {},
   "source": [
    "+ Numeric condition"
   ]
  },
  {
   "cell_type": "code",
   "execution_count": 17,
   "metadata": {},
   "outputs": [],
   "source": [
    "#Waiting time\n",
    "simulationParametersNumeric[[\"aw\"]] <- 1 #Linear parameter\n",
    "simulationParametersNumeric[[\"cw\"]] <- 0.95 #Exponent \n",
    "\n",
    "#In-vehicle time\n",
    "simulationParametersNumeric[[\"av\"]] <- 1 #Linear parameter\n",
    "simulationParametersNumeric[[\"cv\"]] <- 0.95 #Exponent "
   ]
  },
  {
   "cell_type": "markdown",
   "metadata": {},
   "source": [
    "+ Animated Condition"
   ]
  },
  {
   "cell_type": "code",
   "execution_count": 18,
   "metadata": {},
   "outputs": [],
   "source": [
    "#Waiting time\n",
    "simulationParametersAnimated[[\"aw\"]] <- 1 #Linear parameter\n",
    "simulationParametersAnimated[[\"cw\"]] <- 0.9 #Exponent \n",
    "\n",
    "#In-vehicle time\n",
    "simulationParametersAnimated[[\"av\"]] <- 2 #Linear parameter\n",
    "simulationParametersAnimated[[\"cv\"]] <- 0.9 #Exponent \n",
    "\n",
    "#Treatment condition\n",
    "simulationParametersAnimated[[\"awt\"]] <- simulationParametersAnimated[[\"aw\"]] #Difference in linear parameter in treatment condition"
   ]
  },
  {
   "cell_type": "markdown",
   "metadata": {},
   "source": [
    "### ii) Generation of random errors"
   ]
  },
  {
   "cell_type": "code",
   "execution_count": 19,
   "metadata": {},
   "outputs": [],
   "source": [
    "#The shape (mu: mode) and scale (beta>0) parameters for the error distribution\n",
    "muError <- 0\n",
    "betaError <- 1"
   ]
  },
  {
   "cell_type": "code",
   "execution_count": 20,
   "metadata": {},
   "outputs": [],
   "source": [
    "#Function to generate numbers with gumbel distribution. Source: https://en.wikipedia.org/wiki/Gumbel_distribution\n",
    "\n",
    "gumbel.dist <- function(mu,beta,n){\n",
    "  \n",
    "  numunif <- runif(n,0,1)\n",
    "  rgumb <- mu-beta*log(-log(numunif))\n",
    "  \n",
    "  return(rgumb)\n",
    "  \n",
    "}\n",
    "\n",
    "#Let's assume the same shape and scale parameters for the error distribution for each alternative and accross all choice scenarios\n",
    "muErrorAnimated <- muError\n",
    "betaErrorAnimated <- betaError\n",
    "simulationParametersAnimated[[\"scale_gumbel\"]] = betaErrorAnimated\n",
    "\n",
    "muErrorNumeric <- muError\n",
    "betaErrorNumeric <- betaError\n",
    "simulationParametersAnimated[[\"scale_gumbel\"]] = betaErrorNumeric\n",
    "\n",
    "#Generation of errors for alternatives from Animated and Numeric experiments\n",
    "errorAnimated <- data.frame(e1 = gumbel.dist(mu = muErrorAnimated, beta = betaErrorAnimated, nObservations/nExperimentTypes)\n",
    "                  , e2 = gumbel.dist(mu = muErrorAnimated, beta = betaErrorAnimated, nObservations/nExperimentTypes)\n",
    "                  )\n",
    "\n",
    "errorNumeric <- data.frame(e1 = gumbel.dist(mu = muErrorNumeric, beta = betaErrorNumeric, nObservations/nExperimentTypes)\n",
    "                  , e2 = gumbel.dist(mu = muErrorNumeric, beta = betaErrorNumeric, nObservations/nExperimentTypes)\n",
    "                 )"
   ]
  },
  {
   "cell_type": "code",
   "execution_count": 21,
   "metadata": {},
   "outputs": [
    {
     "data": {
      "text/html": [
       "<table>\n",
       "<thead><tr><th scope=col>e1</th><th scope=col>e2</th></tr></thead>\n",
       "<tbody>\n",
       "\t<tr><td> 1.3864386</td><td> 0.3296918</td></tr>\n",
       "\t<tr><td> 0.5130491</td><td> 0.1315463</td></tr>\n",
       "\t<tr><td> 0.8745301</td><td>-0.9508476</td></tr>\n",
       "\t<tr><td>-0.3658032</td><td>-1.5226652</td></tr>\n",
       "\t<tr><td>-1.3158759</td><td>-0.2073962</td></tr>\n",
       "\t<tr><td> 3.6950120</td><td>-0.2328468</td></tr>\n",
       "</tbody>\n",
       "</table>\n"
      ],
      "text/latex": [
       "\\begin{tabular}{r|ll}\n",
       " e1 & e2\\\\\n",
       "\\hline\n",
       "\t  1.3864386 &  0.3296918\\\\\n",
       "\t  0.5130491 &  0.1315463\\\\\n",
       "\t  0.8745301 & -0.9508476\\\\\n",
       "\t -0.3658032 & -1.5226652\\\\\n",
       "\t -1.3158759 & -0.2073962\\\\\n",
       "\t  3.6950120 & -0.2328468\\\\\n",
       "\\end{tabular}\n"
      ],
      "text/markdown": [
       "\n",
       "e1 | e2 | \n",
       "|---|---|---|---|---|---|\n",
       "|  1.3864386 |  0.3296918 | \n",
       "|  0.5130491 |  0.1315463 | \n",
       "|  0.8745301 | -0.9508476 | \n",
       "| -0.3658032 | -1.5226652 | \n",
       "| -1.3158759 | -0.2073962 | \n",
       "|  3.6950120 | -0.2328468 | \n",
       "\n",
       "\n"
      ],
      "text/plain": [
       "  e1         e2        \n",
       "1  1.3864386  0.3296918\n",
       "2  0.5130491  0.1315463\n",
       "3  0.8745301 -0.9508476\n",
       "4 -0.3658032 -1.5226652\n",
       "5 -1.3158759 -0.2073962\n",
       "6  3.6950120 -0.2328468"
      ]
     },
     "metadata": {},
     "output_type": "display_data"
    },
    {
     "data": {
      "text/html": [
       "<table>\n",
       "<thead><tr><th scope=col>e1</th><th scope=col>e2</th></tr></thead>\n",
       "<tbody>\n",
       "\t<tr><td> 0.1234390 </td><td>-0.01312055</td></tr>\n",
       "\t<tr><td> 0.3189870 </td><td>-0.80958568</td></tr>\n",
       "\t<tr><td>-1.3570869 </td><td>-0.31028734</td></tr>\n",
       "\t<tr><td>-1.2213771 </td><td>-1.15862113</td></tr>\n",
       "\t<tr><td> 5.7024967 </td><td> 0.23005296</td></tr>\n",
       "\t<tr><td>-0.7101695 </td><td> 1.28077568</td></tr>\n",
       "</tbody>\n",
       "</table>\n"
      ],
      "text/latex": [
       "\\begin{tabular}{r|ll}\n",
       " e1 & e2\\\\\n",
       "\\hline\n",
       "\t  0.1234390  & -0.01312055\\\\\n",
       "\t  0.3189870  & -0.80958568\\\\\n",
       "\t -1.3570869  & -0.31028734\\\\\n",
       "\t -1.2213771  & -1.15862113\\\\\n",
       "\t  5.7024967  &  0.23005296\\\\\n",
       "\t -0.7101695  &  1.28077568\\\\\n",
       "\\end{tabular}\n"
      ],
      "text/markdown": [
       "\n",
       "e1 | e2 | \n",
       "|---|---|---|---|---|---|\n",
       "|  0.1234390  | -0.01312055 | \n",
       "|  0.3189870  | -0.80958568 | \n",
       "| -1.3570869  | -0.31028734 | \n",
       "| -1.2213771  | -1.15862113 | \n",
       "|  5.7024967  |  0.23005296 | \n",
       "| -0.7101695  |  1.28077568 | \n",
       "\n",
       "\n"
      ],
      "text/plain": [
       "  e1         e2         \n",
       "1  0.1234390 -0.01312055\n",
       "2  0.3189870 -0.80958568\n",
       "3 -1.3570869 -0.31028734\n",
       "4 -1.2213771 -1.15862113\n",
       "5  5.7024967  0.23005296\n",
       "6 -0.7101695  1.28077568"
      ]
     },
     "metadata": {},
     "output_type": "display_data"
    }
   ],
   "source": [
    "head(errorAnimated); head(errorNumeric)"
   ]
  },
  {
   "cell_type": "markdown",
   "metadata": {},
   "source": [
    "### iii) Utility computation"
   ]
  },
  {
   "cell_type": "code",
   "execution_count": 22,
   "metadata": {},
   "outputs": [],
   "source": [
    "utilityComputation <- function(x,beta,error){\n",
    "  \n",
    "  aw <- beta[[\"aw\"]]\n",
    "  bw <- beta[[\"bw\"]]\n",
    "  cw <- beta[[\"cw\"]]\n",
    "  \n",
    "  av <- beta[[\"av\"]]\n",
    "  bv <- beta[[\"bv\"]]\n",
    "  cv <- beta[[\"cv\"]]\n",
    "         \n",
    "  #Animated experiment \n",
    "  if(unique(x$experimentType) == \"animated\"){ \n",
    "    awt <- beta[[\"awt\"]]\n",
    "    x$V1 <- bw*ifelse(x[,\"experimentalCondition\"]==\"control\",aw,aw+awt)*(xAnimated[,\"w1\"])^cw+bv*av*(x[,\"v1\"])^cv\n",
    "    x$V2 <- bw*ifelse(x[,\"experimentalCondition\"]==\"control\",aw,aw+awt)*(xAnimated[,\"w2\"])^cw+bv*av*(x[,\"v2\"])^cv  \n",
    "  }\n",
    "\n",
    "  #Numeric experiment \n",
    "  if(unique(x$experimentType) == \"numeric\"){\n",
    "    x$V1 <- bw*aw*(x[,\"w1\"])^cw+bv*av*(x[,\"v1\"])^cv\n",
    "    x$V2 <- bw*aw*(x[,\"w2\"])^cw+bv*av*(x[,\"v2\"])^cv\n",
    "  }\n",
    "  \n",
    "  x$e1 <- error$e1\n",
    "  x$e2 <- error$e2\n",
    "  \n",
    "  x$U1 <- x$V1+x$e1\n",
    "  x$U2 <- x$V2+x$e2\n",
    "    \n",
    "  return(x)\n",
    "}\n"
   ]
  },
  {
   "cell_type": "markdown",
   "metadata": {},
   "source": [
    "#### - Animated condition"
   ]
  },
  {
   "cell_type": "code",
   "execution_count": 23,
   "metadata": {},
   "outputs": [
    {
     "data": {
      "text/html": [
       "<table>\n",
       "<thead><tr><th scope=col>individual</th><th scope=col>scenario</th><th scope=col>w1</th><th scope=col>v1</th><th scope=col>w2</th><th scope=col>v2</th><th scope=col>experimentType</th><th scope=col>experimentalCondition</th><th scope=col>V1</th><th scope=col>V2</th><th scope=col>e1</th><th scope=col>e2</th><th scope=col>U1</th><th scope=col>U2</th></tr></thead>\n",
       "<tbody>\n",
       "\t<tr><td>1         </td><td>s1        </td><td>4         </td><td>6         </td><td>6         </td><td>6         </td><td>animated  </td><td>control   </td><td>-16.99591 </td><td>-20.06301 </td><td> 1.3864386</td><td> 0.3296918</td><td>-15.60947 </td><td>-19.73332 </td></tr>\n",
       "\t<tr><td>1         </td><td>s2        </td><td>6         </td><td>4         </td><td>6         </td><td>6         </td><td>animated  </td><td>control   </td><td>-16.99591 </td><td>-20.06301 </td><td> 0.5130491</td><td> 0.1315463</td><td>-16.48286 </td><td>-19.93146 </td></tr>\n",
       "\t<tr><td>1         </td><td>s3        </td><td>4         </td><td>6         </td><td>6         </td><td>4         </td><td>animated  </td><td>control   </td><td>-16.99591 </td><td>-16.99591 </td><td> 0.8745301</td><td>-0.9508476</td><td>-16.12138 </td><td>-17.94676 </td></tr>\n",
       "\t<tr><td>1         </td><td>s4        </td><td>1         </td><td>9         </td><td>9         </td><td>1         </td><td>animated  </td><td>control   </td><td>-16.44935 </td><td>-16.44935 </td><td>-0.3658032</td><td>-1.5226652</td><td>-16.81515 </td><td>-17.97201 </td></tr>\n",
       "\t<tr><td>1         </td><td>s5        </td><td>2         </td><td>9         </td><td>8         </td><td>2         </td><td>animated  </td><td>control   </td><td>-18.18148 </td><td>-16.72817 </td><td>-1.3158759</td><td>-0.2073962</td><td>-19.49736 </td><td>-16.93557 </td></tr>\n",
       "\t<tr><td>1         </td><td>s6        </td><td>3         </td><td>8         </td><td>8         </td><td>2         </td><td>animated  </td><td>control   </td><td>-18.37179 </td><td>-16.72817 </td><td> 3.6950120</td><td>-0.2328468</td><td>-14.67678 </td><td>-16.96102 </td></tr>\n",
       "</tbody>\n",
       "</table>\n"
      ],
      "text/latex": [
       "\\begin{tabular}{r|llllllllllllll}\n",
       " individual & scenario & w1 & v1 & w2 & v2 & experimentType & experimentalCondition & V1 & V2 & e1 & e2 & U1 & U2\\\\\n",
       "\\hline\n",
       "\t 1          & s1         & 4          & 6          & 6          & 6          & animated   & control    & -16.99591  & -20.06301  &  1.3864386 &  0.3296918 & -15.60947  & -19.73332 \\\\\n",
       "\t 1          & s2         & 6          & 4          & 6          & 6          & animated   & control    & -16.99591  & -20.06301  &  0.5130491 &  0.1315463 & -16.48286  & -19.93146 \\\\\n",
       "\t 1          & s3         & 4          & 6          & 6          & 4          & animated   & control    & -16.99591  & -16.99591  &  0.8745301 & -0.9508476 & -16.12138  & -17.94676 \\\\\n",
       "\t 1          & s4         & 1          & 9          & 9          & 1          & animated   & control    & -16.44935  & -16.44935  & -0.3658032 & -1.5226652 & -16.81515  & -17.97201 \\\\\n",
       "\t 1          & s5         & 2          & 9          & 8          & 2          & animated   & control    & -18.18148  & -16.72817  & -1.3158759 & -0.2073962 & -19.49736  & -16.93557 \\\\\n",
       "\t 1          & s6         & 3          & 8          & 8          & 2          & animated   & control    & -18.37179  & -16.72817  &  3.6950120 & -0.2328468 & -14.67678  & -16.96102 \\\\\n",
       "\\end{tabular}\n"
      ],
      "text/markdown": [
       "\n",
       "individual | scenario | w1 | v1 | w2 | v2 | experimentType | experimentalCondition | V1 | V2 | e1 | e2 | U1 | U2 | \n",
       "|---|---|---|---|---|---|\n",
       "| 1          | s1         | 4          | 6          | 6          | 6          | animated   | control    | -16.99591  | -20.06301  |  1.3864386 |  0.3296918 | -15.60947  | -19.73332  | \n",
       "| 1          | s2         | 6          | 4          | 6          | 6          | animated   | control    | -16.99591  | -20.06301  |  0.5130491 |  0.1315463 | -16.48286  | -19.93146  | \n",
       "| 1          | s3         | 4          | 6          | 6          | 4          | animated   | control    | -16.99591  | -16.99591  |  0.8745301 | -0.9508476 | -16.12138  | -17.94676  | \n",
       "| 1          | s4         | 1          | 9          | 9          | 1          | animated   | control    | -16.44935  | -16.44935  | -0.3658032 | -1.5226652 | -16.81515  | -17.97201  | \n",
       "| 1          | s5         | 2          | 9          | 8          | 2          | animated   | control    | -18.18148  | -16.72817  | -1.3158759 | -0.2073962 | -19.49736  | -16.93557  | \n",
       "| 1          | s6         | 3          | 8          | 8          | 2          | animated   | control    | -18.37179  | -16.72817  |  3.6950120 | -0.2328468 | -14.67678  | -16.96102  | \n",
       "\n",
       "\n"
      ],
      "text/plain": [
       "  individual scenario w1 v1 w2 v2 experimentType experimentalCondition\n",
       "1 1          s1       4  6  6  6  animated       control              \n",
       "2 1          s2       6  4  6  6  animated       control              \n",
       "3 1          s3       4  6  6  4  animated       control              \n",
       "4 1          s4       1  9  9  1  animated       control              \n",
       "5 1          s5       2  9  8  2  animated       control              \n",
       "6 1          s6       3  8  8  2  animated       control              \n",
       "  V1        V2        e1         e2         U1        U2       \n",
       "1 -16.99591 -20.06301  1.3864386  0.3296918 -15.60947 -19.73332\n",
       "2 -16.99591 -20.06301  0.5130491  0.1315463 -16.48286 -19.93146\n",
       "3 -16.99591 -16.99591  0.8745301 -0.9508476 -16.12138 -17.94676\n",
       "4 -16.44935 -16.44935 -0.3658032 -1.5226652 -16.81515 -17.97201\n",
       "5 -18.18148 -16.72817 -1.3158759 -0.2073962 -19.49736 -16.93557\n",
       "6 -18.37179 -16.72817  3.6950120 -0.2328468 -14.67678 -16.96102"
      ]
     },
     "metadata": {},
     "output_type": "display_data"
    }
   ],
   "source": [
    "betaAnimated <- simulationParametersAnimated\n",
    "xAnimated <- subset(cdata,experimentType == \"animated\")\n",
    "cdataAnimated <- utilityComputation(x=xAnimated,beta = betaAnimated, e = errorAnimated)\n",
    "\n",
    "head(cdataAnimated)"
   ]
  },
  {
   "cell_type": "markdown",
   "metadata": {},
   "source": [
    "#### - Numeric condition"
   ]
  },
  {
   "cell_type": "code",
   "execution_count": 24,
   "metadata": {},
   "outputs": [],
   "source": [
    "betaNumeric <- simulationParametersNumeric\n",
    "xNumeric <- subset(cdata,experimentType == \"numeric\")\n",
    "cdataNumeric <- utilityComputation(x=xNumeric,beta = betaNumeric, error = errorNumeric)"
   ]
  },
  {
   "cell_type": "code",
   "execution_count": 25,
   "metadata": {},
   "outputs": [
    {
     "data": {
      "text/html": [
       "<table>\n",
       "<thead><tr><th></th><th scope=col>individual</th><th scope=col>scenario</th><th scope=col>w1</th><th scope=col>v1</th><th scope=col>w2</th><th scope=col>v2</th><th scope=col>experimentType</th><th scope=col>experimentalCondition</th><th scope=col>V1</th><th scope=col>V2</th><th scope=col>e1</th><th scope=col>e2</th><th scope=col>U1</th><th scope=col>U2</th></tr></thead>\n",
       "<tbody>\n",
       "\t<tr><th scope=row>9</th><td>1          </td><td>s1         </td><td>4          </td><td>6          </td><td>6          </td><td>6          </td><td>numeric    </td><td>control    </td><td>-12.95011  </td><td>-16.45754  </td><td> 0.1234390 </td><td>-0.01312055</td><td>-12.826672 </td><td>-16.47066  </td></tr>\n",
       "\t<tr><th scope=row>10</th><td>1          </td><td>s2         </td><td>6          </td><td>4          </td><td>6          </td><td>6          </td><td>numeric    </td><td>control    </td><td>-14.70383  </td><td>-16.45754  </td><td> 0.3189870 </td><td>-0.80958568</td><td>-14.384839 </td><td>-17.26713  </td></tr>\n",
       "\t<tr><th scope=row>11</th><td>1          </td><td>s3         </td><td>4          </td><td>6          </td><td>6          </td><td>4          </td><td>numeric    </td><td>control    </td><td>-12.95011  </td><td>-14.70383  </td><td>-1.3570869 </td><td>-0.31028734</td><td>-14.307198 </td><td>-15.01411  </td></tr>\n",
       "\t<tr><th scope=row>12</th><td>1          </td><td>s4         </td><td>1          </td><td>9          </td><td>9          </td><td>1          </td><td>numeric    </td><td>control    </td><td>-10.06363  </td><td>-17.12725  </td><td>-1.2213771 </td><td>-1.15862113</td><td>-11.285003 </td><td>-18.28587  </td></tr>\n",
       "\t<tr><th scope=row>13</th><td>1          </td><td>s5         </td><td>2          </td><td>9          </td><td>8          </td><td>2          </td><td>numeric    </td><td>control    </td><td>-11.92737  </td><td>-16.35188  </td><td> 5.7024967 </td><td> 0.23005296</td><td> -6.224875 </td><td>-16.12183  </td></tr>\n",
       "\t<tr><th scope=row>14</th><td>1          </td><td>s6         </td><td>3          </td><td>8          </td><td>8          </td><td>2          </td><td>numeric    </td><td>control    </td><td>-12.88931  </td><td>-16.35188  </td><td>-0.7101695 </td><td> 1.28077568</td><td>-13.599478 </td><td>-15.07110  </td></tr>\n",
       "</tbody>\n",
       "</table>\n"
      ],
      "text/latex": [
       "\\begin{tabular}{r|llllllllllllll}\n",
       "  & individual & scenario & w1 & v1 & w2 & v2 & experimentType & experimentalCondition & V1 & V2 & e1 & e2 & U1 & U2\\\\\n",
       "\\hline\n",
       "\t9 & 1           & s1          & 4           & 6           & 6           & 6           & numeric     & control     & -12.95011   & -16.45754   &  0.1234390  & -0.01312055 & -12.826672  & -16.47066  \\\\\n",
       "\t10 & 1           & s2          & 6           & 4           & 6           & 6           & numeric     & control     & -14.70383   & -16.45754   &  0.3189870  & -0.80958568 & -14.384839  & -17.26713  \\\\\n",
       "\t11 & 1           & s3          & 4           & 6           & 6           & 4           & numeric     & control     & -12.95011   & -14.70383   & -1.3570869  & -0.31028734 & -14.307198  & -15.01411  \\\\\n",
       "\t12 & 1           & s4          & 1           & 9           & 9           & 1           & numeric     & control     & -10.06363   & -17.12725   & -1.2213771  & -1.15862113 & -11.285003  & -18.28587  \\\\\n",
       "\t13 & 1           & s5          & 2           & 9           & 8           & 2           & numeric     & control     & -11.92737   & -16.35188   &  5.7024967  &  0.23005296 &  -6.224875  & -16.12183  \\\\\n",
       "\t14 & 1           & s6          & 3           & 8           & 8           & 2           & numeric     & control     & -12.88931   & -16.35188   & -0.7101695  &  1.28077568 & -13.599478  & -15.07110  \\\\\n",
       "\\end{tabular}\n"
      ],
      "text/markdown": [
       "\n",
       "| <!--/--> | individual | scenario | w1 | v1 | w2 | v2 | experimentType | experimentalCondition | V1 | V2 | e1 | e2 | U1 | U2 | \n",
       "|---|---|---|---|---|---|\n",
       "| 9 | 1           | s1          | 4           | 6           | 6           | 6           | numeric     | control     | -12.95011   | -16.45754   |  0.1234390  | -0.01312055 | -12.826672  | -16.47066   | \n",
       "| 10 | 1           | s2          | 6           | 4           | 6           | 6           | numeric     | control     | -14.70383   | -16.45754   |  0.3189870  | -0.80958568 | -14.384839  | -17.26713   | \n",
       "| 11 | 1           | s3          | 4           | 6           | 6           | 4           | numeric     | control     | -12.95011   | -14.70383   | -1.3570869  | -0.31028734 | -14.307198  | -15.01411   | \n",
       "| 12 | 1           | s4          | 1           | 9           | 9           | 1           | numeric     | control     | -10.06363   | -17.12725   | -1.2213771  | -1.15862113 | -11.285003  | -18.28587   | \n",
       "| 13 | 1           | s5          | 2           | 9           | 8           | 2           | numeric     | control     | -11.92737   | -16.35188   |  5.7024967  |  0.23005296 |  -6.224875  | -16.12183   | \n",
       "| 14 | 1           | s6          | 3           | 8           | 8           | 2           | numeric     | control     | -12.88931   | -16.35188   | -0.7101695  |  1.28077568 | -13.599478  | -15.07110   | \n",
       "\n",
       "\n"
      ],
      "text/plain": [
       "   individual scenario w1 v1 w2 v2 experimentType experimentalCondition\n",
       "9  1          s1       4  6  6  6  numeric        control              \n",
       "10 1          s2       6  4  6  6  numeric        control              \n",
       "11 1          s3       4  6  6  4  numeric        control              \n",
       "12 1          s4       1  9  9  1  numeric        control              \n",
       "13 1          s5       2  9  8  2  numeric        control              \n",
       "14 1          s6       3  8  8  2  numeric        control              \n",
       "   V1        V2        e1         e2          U1         U2       \n",
       "9  -12.95011 -16.45754  0.1234390 -0.01312055 -12.826672 -16.47066\n",
       "10 -14.70383 -16.45754  0.3189870 -0.80958568 -14.384839 -17.26713\n",
       "11 -12.95011 -14.70383 -1.3570869 -0.31028734 -14.307198 -15.01411\n",
       "12 -10.06363 -17.12725 -1.2213771 -1.15862113 -11.285003 -18.28587\n",
       "13 -11.92737 -16.35188  5.7024967  0.23005296  -6.224875 -16.12183\n",
       "14 -12.88931 -16.35188 -0.7101695  1.28077568 -13.599478 -15.07110"
      ]
     },
     "metadata": {},
     "output_type": "display_data"
    }
   ],
   "source": [
    "head(cdataNumeric)"
   ]
  },
  {
   "cell_type": "markdown",
   "metadata": {},
   "source": [
    "### iv) Simulated choices"
   ]
  },
  {
   "cell_type": "code",
   "execution_count": 26,
   "metadata": {},
   "outputs": [],
   "source": [
    "cdataNumeric$choice <- with(cdataNumeric, ifelse(U1>U2, 1, 2))\n",
    "cdataAnimated$choice <- with(cdataAnimated, ifelse(U1>U2, 1, 2))"
   ]
  },
  {
   "cell_type": "markdown",
   "metadata": {},
   "source": [
    "## d) Estimation"
   ]
  },
  {
   "cell_type": "code",
   "execution_count": null,
   "metadata": {},
   "outputs": [],
   "source": []
  },
  {
   "cell_type": "markdown",
   "metadata": {},
   "source": [
    "### i) Loglikelihood functions"
   ]
  },
  {
   "cell_type": "code",
   "execution_count": 27,
   "metadata": {},
   "outputs": [],
   "source": [
    "library(maxLik)"
   ]
  },
  {
   "cell_type": "code",
   "execution_count": 28,
   "metadata": {},
   "outputs": [],
   "source": [
    "logitProbability <- function(VA,VB){\n",
    "  \n",
    "  return(exp(VA)/(exp(VA)+exp(VB)))\n",
    "  \n",
    "}"
   ]
  },
  {
   "cell_type": "code",
   "execution_count": 29,
   "metadata": {},
   "outputs": [],
   "source": [
    "LogitTimePerception <- function(DCMData, logitParameters, constraints, method\n",
    "                                , simulationParameters, sameCurvature = FALSE, sameTimeWeighting = FALSE){\n",
    "  \n",
    "  if(sameCurvature == TRUE)\n",
    "  { \n",
    "    logitParameters[[\"thetaP\"]] <- simulationParameters[[\"cw\"]]\n",
    "    \n",
    "    if(c(\"thetaPW\") %in% names(logitParameters)){\n",
    "      logitParameters <- logitParameters[-which(names(logitParameters) == \"thetaPW\")] \n",
    "    }\n",
    "    \n",
    "    if(c(\"thetaPV\") %in% names(logitParameters)){\n",
    "      logitParameters <- logitParameters[-which(names(logitParameters) == \"thetaPV\")] \n",
    "    }\n",
    "  }\n",
    "  \n",
    "  if(sameTimeWeighting == TRUE)\n",
    "  { \n",
    "    logitParameters[[\"thetaA\"]] <- simulationParameters[[\"aw\"]]\n",
    "    \n",
    "    if(c(\"thetaAW\") %in% names(logitParameters)){\n",
    "      logitParameters <- logitParameters[-which(names(logitParameters) == \"thetaAW\")] \n",
    "    }\n",
    "    \n",
    "    if(c(\"thetaAV\") %in% names(logitParameters)){\n",
    "      logitParameters <- logitParameters[-which(names(logitParameters) == \"thetaAV\")] \n",
    "    }\n",
    "  }\n",
    "  \n",
    "  LogLikTimePerception <<- function(parameters,data = DCMData){\n",
    "    \n",
    "    \n",
    "    \n",
    "    constant <- as.numeric(ifelse(is.na(parameters[\"constant\"]),0,parameters[[\"constant\"]]))     \n",
    "    thetaW <- as.numeric(ifelse(is.na(parameters[\"thetaW\"]),simulationParameters[[\"bw\"]]/simulationParameters[[\"scale_gumbel\"]],parameters[[\"thetaW\"]]))\n",
    "    thetaV <-  as.numeric(ifelse(is.na(parameters[\"thetaV\"]),simulationParameters[[\"bv\"]]/simulationParameters[[\"scale_gumbel\"]],parameters[[\"thetaV\"]]))\n",
    "    #thetaWeight <- as.numeric(ifelse(is.na(parameters[\"thetaWeight\"]),1/simulationParameters[[\"betaWeight\"]],parameters[[\"thetaWeight\"]]))\n",
    "    \n",
    "    thetaAWT <-  as.numeric(ifelse(is.na(parameters[\"thetaAWT\"]),0,parameters[[\"thetaAWT\"]])) \n",
    "    \n",
    "    if(sameCurvature == TRUE){\n",
    "      thetaPW <-  as.numeric(parameters[[\"thetaP\"]])\n",
    "      thetaPV <-  as.numeric(parameters[[\"thetaP\"]])\n",
    "    }\n",
    "    \n",
    "    if(sameCurvature == FALSE){\n",
    "      #sameCurvature = FALSE\n",
    "      thetaPW <-  as.numeric(ifelse(is.na(parameters[\"thetaPW\"]),simulationParameters[[\"cw\"]],parameters[[\"thetaPW\"]]))\n",
    "      thetaPV <-  as.numeric(ifelse(is.na(parameters[\"thetaPV\"]),simulationParameters[[\"cv\"]],parameters[[\"thetaPV\"]]))\n",
    "      \n",
    "    }\n",
    "    \n",
    "    if(sameTimeWeighting == TRUE){\n",
    "      thetaAW <-  as.numeric(parameters[[\"thetaA\"]])\n",
    "      thetaAV <-  as.numeric(parameters[[\"thetaA\"]])\n",
    "    }\n",
    "    \n",
    "    if(sameTimeWeighting == FALSE){\n",
    "      \n",
    "      #sameTimeWeighting = FALSE\n",
    "      thetaAW <-  as.numeric(ifelse(is.na(parameters[\"thetaAW\"]),simulationParameters[[\"aw\"]],parameters[[\"thetaAW\"]]))\n",
    "      thetaAV <-  as.numeric(ifelse(is.na(parameters[\"thetaAV\"]),simulationParameters[[\"av\"]],parameters[[\"thetaAV\"]]))\n",
    "      \n",
    "    }\n",
    "    \n",
    "    if(unique(data$experimentType) == \"numeric\"){\n",
    "      \n",
    "      V1 <- constant+thetaW*thetaAW*(data$w1)^(thetaPW) + thetaV*thetaAV*(data$v1)^(thetaPV) \n",
    "      V2 <- thetaW*thetaAW*(data$w2)^(thetaPW) + thetaV*thetaAV*(data$v2)^(thetaPV)\n",
    "    }\n",
    "    \n",
    "    if(unique(data$experimentType) == \"animated\"){\n",
    "      \n",
    "      #V1 <- constant+thetaW*thetaAW*(data$w1)^(thetaPW) + thetaV*thetaAV*(data$v1)^(thetaPV) \n",
    "      #V2 <- thetaW*thetaAW*(data$w2)^(thetaPW) + thetaV*thetaAV*(data$v2)^(thetaPV)\n",
    "      \n",
    "      V1 <- thetaW*(data$w1)^(thetaPW)*ifelse(data$experimentalCondition == \"control\",thetaAW,thetaAW+thetaAWT)+thetaV*thetaAV*(data$v1)^(thetaPV) \n",
    "      V2 <- thetaW*(data$w2)^(thetaPW)*ifelse(data$experimentalCondition == \"control\",thetaAW,thetaAW+thetaAWT)+thetaV*thetaAV*(data$v2)^(thetaPV) \n",
    "    }\n",
    "    \n",
    "    \n",
    "    SUM1 <- ifelse(data$choice == 1,1,0)*log(logitProbability(VA = V1, VB = V2))\n",
    "    SUM2 <- ifelse(data$choice == 2,1,0)*log(logitProbability(VA = V2, VB = V1))\n",
    "    \n",
    "    return(SUM1+SUM2)\n",
    "  }\n",
    "  \n",
    "  \n",
    "  MLParameters <- maxLik(logLik = LogLikTimePerception, start = logitParameters,method = method)\n",
    "  \n",
    "  OI <- solve(MLParameters$hessian)\n",
    "  se <- sqrt(abs(diag(OI)))\n",
    "  ttest <- MLParameters$estimate/se\n",
    "  \n",
    "  resultsML <- cbind(estimate = MLParameters$estimate, se = se, ttest = ttest)\n",
    "  \n",
    "  return(list(resultsML,MLParameters))\n",
    "}"
   ]
  },
  {
   "cell_type": "markdown",
   "metadata": {},
   "source": [
    "### ii) Parameters recovery"
   ]
  },
  {
   "cell_type": "markdown",
   "metadata": {},
   "source": [
    "#### - Numeric condition (Control and Treatment)"
   ]
  },
  {
   "cell_type": "markdown",
   "metadata": {},
   "source": [
    "+ The ratio of the preferences for waiting and travel times are somewhat insensitive to the value of the exponents of the time perception functions provided that the exponents equal for waiting and in-vehicle times "
   ]
  },
  {
   "cell_type": "markdown",
   "metadata": {},
   "source": [
    "    * Real exponents"
   ]
  },
  {
   "cell_type": "code",
   "execution_count": 30,
   "metadata": {},
   "outputs": [],
   "source": [
    "#Control and treatment conditions\n",
    "simulationParametersNumeric1 <- c(bv = bv, bw = bw, aw = 1, av = 1\n",
    "                                  , cw = simulationParametersNumeric[[\"cw\"]], cv = simulationParametersNumeric[[\"cv\"]]\n",
    "                                  , scale_gumbel = betaErrorNumeric) \n",
    "\n",
    "logitParametersNumeric1 <- c(thetaW = 0, thetaV = 0, thetaT= NULL,constant = NULL\n",
    "                      , thetaPW = NULL,thetaPV = NULL, thetaAV = NULL, thetaAW = NULL)#, thetaWeight = 1)#, thetaWeight = 1\n"
   ]
  },
  {
   "cell_type": "code",
   "execution_count": 31,
   "metadata": {},
   "outputs": [
    {
     "data": {
      "text/plain": [
       "[[1]]\n",
       "        estimate         se     ttest\n",
       "thetaW -2.103277 0.09535022 -22.05843\n",
       "thetaV -1.092681 0.07928612 -13.78149\n",
       "\n",
       "[[2]]\n",
       "Maximum Likelihood estimation\n",
       "BHHH maximisation, 7 iterations\n",
       "Return code 2: successive function values within tolerance limit\n",
       "Log-Likelihood: -476.6273 (2 free parameter(s))\n",
       "Estimate(s): -2.103277 -1.092681 \n"
      ]
     },
     "metadata": {},
     "output_type": "display_data"
    }
   ],
   "source": [
    "DCMNumeric1 <- LogitTimePerception(DCMData = subset(cdataNumeric, experimentalCondition == \"control\")\n",
    "                                , logitParameters = logitParametersNumeric1, method = \"BHHH\"\n",
    "                                , simulationParameters = simulationParametersNumeric1\n",
    "                                , sameCurvature = FALSE, sameTimeWeighting = FALSE)\n",
    "DCMNumeric1"
   ]
  },
  {
   "cell_type": "code",
   "execution_count": 32,
   "metadata": {},
   "outputs": [
    {
     "data": {
      "text/html": [
       "1.92487735137288"
      ],
      "text/latex": [
       "1.92487735137288"
      ],
      "text/markdown": [
       "1.92487735137288"
      ],
      "text/plain": [
       "[1] 1.924877"
      ]
     },
     "metadata": {},
     "output_type": "display_data"
    },
    {
     "data": {
      "text/html": [
       "2"
      ],
      "text/latex": [
       "2"
      ],
      "text/markdown": [
       "2"
      ],
      "text/plain": [
       "[1] 2"
      ]
     },
     "metadata": {},
     "output_type": "display_data"
    }
   ],
   "source": [
    "ratioWV <- DCMNumeric1[[1]][\"thetaW\",\"estimate\"]/DCMNumeric1[[1]][\"thetaV\",\"estimate\"]; ratioWV\n",
    "simulationParametersNumeric[[\"bw\"]]/simulationParametersNumeric[[\"bv\"]]"
   ]
  },
  {
   "cell_type": "markdown",
   "metadata": {},
   "source": [
    "    * Other exponents"
   ]
  },
  {
   "cell_type": "code",
   "execution_count": 33,
   "metadata": {},
   "outputs": [],
   "source": [
    "simulationParametersNumeric2 <- simulationParametersNumeric1\n",
    "\n",
    "simulationParametersNumeric2[[\"cw\"]] <- 0.75\n",
    "simulationParametersNumeric2[[\"cv\"]] <- 0.75\n",
    "\n",
    "logitParametersNumeric2 <- c(thetaW = 0, thetaV = 0,constant = NULL\n",
    "                      , thetaPW = NULL,thetaPV = NULL, thetaAV = NULL, thetaAW = NULL)\n"
   ]
  },
  {
   "cell_type": "code",
   "execution_count": 34,
   "metadata": {},
   "outputs": [
    {
     "data": {
      "text/plain": [
       "[[1]]\n",
       "        estimate        se     ttest\n",
       "thetaW -3.646847 0.1659910 -21.97015\n",
       "thetaV -1.884544 0.1378194 -13.67401\n",
       "\n",
       "[[2]]\n",
       "Maximum Likelihood estimation\n",
       "BHHH maximisation, 7 iterations\n",
       "Return code 2: successive function values within tolerance limit\n",
       "Log-Likelihood: -478.8431 (2 free parameter(s))\n",
       "Estimate(s): -3.646847 -1.884544 \n"
      ]
     },
     "metadata": {},
     "output_type": "display_data"
    }
   ],
   "source": [
    "DCMNumeric2 <- LogitTimePerception(DCMData = subset(cdataNumeric, experimentalCondition == \"control\")\n",
    "                                , logitParameters = logitParametersNumeric2, method = \"BHHH\"\n",
    "                                , simulationParameters = simulationParametersNumeric2\n",
    "                                , sameCurvature = FALSE, sameTimeWeighting = FALSE)\n",
    "DCMNumeric2"
   ]
  },
  {
   "cell_type": "code",
   "execution_count": 35,
   "metadata": {},
   "outputs": [
    {
     "data": {
      "text/html": [
       "1.93513493516489"
      ],
      "text/latex": [
       "1.93513493516489"
      ],
      "text/markdown": [
       "1.93513493516489"
      ],
      "text/plain": [
       "[1] 1.935135"
      ]
     },
     "metadata": {},
     "output_type": "display_data"
    },
    {
     "data": {
      "text/html": [
       "2"
      ],
      "text/latex": [
       "2"
      ],
      "text/markdown": [
       "2"
      ],
      "text/plain": [
       "[1] 2"
      ]
     },
     "metadata": {},
     "output_type": "display_data"
    }
   ],
   "source": [
    "ratioWV <- DCMNumeric2[[1]][\"thetaW\",\"estimate\"]/DCMNumeric2[[1]][\"thetaV\",\"estimate\"]; ratioWV\n",
    "simulationParametersNumeric[[\"bw\"]]/simulationParametersNumeric[[\"bv\"]]"
   ]
  },
  {
   "cell_type": "markdown",
   "metadata": {},
   "source": [
    "+ If the exact values of the preferences parameters are known, then it is possible to recover the exponent of the time perception function"
   ]
  },
  {
   "cell_type": "code",
   "execution_count": 36,
   "metadata": {},
   "outputs": [
    {
     "data": {
      "text/plain": [
       "[[1]]\n",
       "         estimate         se    ttest\n",
       "thetaPW 0.9709056 0.01705319 56.93394\n",
       "thetaPV 0.9867217 0.02742628 35.97724\n",
       "\n",
       "[[2]]\n",
       "Maximum Likelihood estimation\n",
       "BHHH maximisation, 4 iterations\n",
       "Return code 2: successive function values within tolerance limit\n",
       "Log-Likelihood: -476.4901 (2 free parameter(s))\n",
       "Estimate(s): 0.9709056 0.9867217 \n"
      ]
     },
     "metadata": {},
     "output_type": "display_data"
    }
   ],
   "source": [
    "simulationParametersNumeric3 <- simulationParametersNumeric1\n",
    "errorScaleFactor <- 1\n",
    "simulationParametersNumeric3[[\"bw\"]] <- simulationParametersNumeric1[[\"bw\"]]*errorScaleFactor\n",
    "simulationParametersNumeric3[[\"bv\"]] <- simulationParametersNumeric1[[\"bv\"]]*errorScaleFactor\n",
    "\n",
    "\n",
    "logitParametersNumeric3 <- c(thetaW = NULL, thetaV = NULL ,constant = NULL\n",
    "                      , thetaPW = 1,thetaPV = 1,thetaAV = NULL, thetaAW = NULL)\n",
    "\n",
    "\n",
    "DCMNumeric3 <- LogitTimePerception(DCMData = subset(cdataNumeric, experimentalCondition == \"control\")\n",
    "                                , logitParameters = logitParametersNumeric3, method = \"BHHH\"\n",
    "                                , simulationParameters = simulationParametersNumeric3\n",
    "                                , sameCurvature = FALSE, sameTimeWeighting = FALSE)\n",
    "DCMNumeric3"
   ]
  },
  {
   "cell_type": "code",
   "execution_count": 37,
   "metadata": {},
   "outputs": [
    {
     "data": {
      "text/html": [
       "0.95"
      ],
      "text/latex": [
       "0.95"
      ],
      "text/markdown": [
       "0.95"
      ],
      "text/plain": [
       "[1] 0.95"
      ]
     },
     "metadata": {},
     "output_type": "display_data"
    },
    {
     "data": {
      "text/html": [
       "0.95"
      ],
      "text/latex": [
       "0.95"
      ],
      "text/markdown": [
       "0.95"
      ],
      "text/plain": [
       "[1] 0.95"
      ]
     },
     "metadata": {},
     "output_type": "display_data"
    }
   ],
   "source": [
    "simulationParametersNumeric[[\"cw\"]];simulationParametersNumeric[[\"cv\"]]"
   ]
  },
  {
   "cell_type": "markdown",
   "metadata": {},
   "source": [
    "+ The value of the exponents are sensitive to the scale parameter of the error term. "
   ]
  },
  {
   "cell_type": "code",
   "execution_count": 38,
   "metadata": {},
   "outputs": [
    {
     "data": {
      "text/plain": [
       "[[1]]\n",
       "        estimate         se    ttest\n",
       "thetaPW 1.245065 0.01860257 66.92976\n",
       "thetaPV 1.258900 0.02997400 41.99974\n",
       "\n",
       "[[2]]\n",
       "Maximum Likelihood estimation\n",
       "BHHH maximisation, 5 iterations\n",
       "Return code 2: successive function values within tolerance limit\n",
       "Log-Likelihood: -475.7543 (2 free parameter(s))\n",
       "Estimate(s): 1.245065 1.2589 \n"
      ]
     },
     "metadata": {},
     "output_type": "display_data"
    }
   ],
   "source": [
    "simulationParametersNumeric4 <- simulationParametersNumeric1\n",
    "errorScaleFactor <- 0.5 # scale factor equals to 0.5\n",
    "simulationParametersNumeric4[[\"bw\"]] <- simulationParametersNumeric1[[\"bw\"]]*errorScaleFactor\n",
    "simulationParametersNumeric4[[\"bv\"]] <- simulationParametersNumeric1[[\"bv\"]]*errorScaleFactor\n",
    "\n",
    "\n",
    "logitParametersNumeric4 <- c(thetaW = NULL, thetaV = NULL ,constant = NULL\n",
    "                      , thetaPW = 1,thetaPV = 1,thetaAV = NULL, thetaAW = NULL)\n",
    "\n",
    "\n",
    "DCMNumeric4 <- LogitTimePerception(DCMData = subset(cdataNumeric, experimentalCondition == \"control\")\n",
    "                                , logitParameters = logitParametersNumeric4, method = \"BHHH\"\n",
    "                                , simulationParameters = simulationParametersNumeric4\n",
    "                                , sameCurvature = FALSE, sameTimeWeighting = FALSE)\n",
    "DCMNumeric4\n"
   ]
  },
  {
   "cell_type": "markdown",
   "metadata": {},
   "source": [
    "+ It is only possible to recover the ratio between the exponents of the time perception function"
   ]
  },
  {
   "cell_type": "code",
   "execution_count": 39,
   "metadata": {},
   "outputs": [
    {
     "data": {
      "text/html": [
       "0.989010260464717"
      ],
      "text/latex": [
       "0.989010260464717"
      ],
      "text/markdown": [
       "0.989010260464717"
      ],
      "text/plain": [
       "[1] 0.9890103"
      ]
     },
     "metadata": {},
     "output_type": "display_data"
    },
    {
     "data": {
      "text/html": [
       "1"
      ],
      "text/latex": [
       "1"
      ],
      "text/markdown": [
       "1"
      ],
      "text/plain": [
       "[1] 1"
      ]
     },
     "metadata": {},
     "output_type": "display_data"
    }
   ],
   "source": [
    "ratioPWPV <- DCMNumeric4[[1]][\"thetaPW\",\"estimate\"]/DCMNumeric4[[1]][\"thetaPV\",\"estimate\"]; ratioPWPV\n",
    "simulationParametersNumeric[[\"cw\"]]/simulationParametersNumeric[[\"cv\"]]"
   ]
  },
  {
   "cell_type": "markdown",
   "metadata": {},
   "source": [
    "### - Animated Condition (Control: Unknown Waiting Time)"
   ]
  },
  {
   "cell_type": "markdown",
   "metadata": {},
   "source": [
    "- Previous literature on time perception have found values of the exponents close to 0.9. If the linear parameters of the time perception function are different for waiting and in-vehicles times are different, however, the preferences for waiting and in-vechile times will not be properly recovered"
   ]
  },
  {
   "cell_type": "code",
   "execution_count": 40,
   "metadata": {},
   "outputs": [
    {
     "data": {
      "text/plain": [
       "[[1]]\n",
       "        estimate        se     ttest\n",
       "thetaW -5.769916 0.2559439 -22.54368\n",
       "thetaV -5.788429 0.2323270 -24.91501\n",
       "\n",
       "[[2]]\n",
       "Maximum Likelihood estimation\n",
       "BHHH maximisation, 6 iterations\n",
       "Return code 2: successive function values within tolerance limit\n",
       "Log-Likelihood: -1336.151 (2 free parameter(s))\n",
       "Estimate(s): -5.769916 -5.788429 \n"
      ]
     },
     "metadata": {},
     "output_type": "display_data"
    }
   ],
   "source": [
    "#Lets assume that the scale parameters of the time perception function are equal (e.g. aw = 1, av = 1)\n",
    "\n",
    "simulationParametersAnimatedControl1 <- c(bv = bv, bw = bw, aw = 1, av = 1, cw = 0.5, cv = 0.5,awt = 0\n",
    "                                          , scale_gumbel = betaErrorAnimated)\n",
    "\n",
    "\n",
    "logitParametersAnimatedControl1 <- c(thetaW = 0, thetaV = 0, thetaT= NULL,constant = NULL\n",
    "                      , thetaPW = NULL,thetaPV = NULL, thetaAWT = NULL, thetaAV = NULL, thetaAW = NULL)#, thetaWeight = 1)#, thetaWeight = 1\n",
    "\n",
    "\n",
    "DCMAnimatedControl1 <- LogitTimePerception(DCMData = subset(cdataAnimated, experimentalCondition == \"control\")\n",
    "                                                     , logitParameters = logitParametersAnimatedControl1, method = \"BHHH\"\n",
    "                                , simulationParameters = simulationParametersAnimatedControl1\n",
    "                                , sameCurvature = FALSE, sameTimeWeighting = FALSE)\n",
    "DCMAnimatedControl1"
   ]
  },
  {
   "cell_type": "code",
   "execution_count": 41,
   "metadata": {},
   "outputs": [
    {
     "data": {
      "text/html": [
       "0.996801775667925"
      ],
      "text/latex": [
       "0.996801775667925"
      ],
      "text/markdown": [
       "0.996801775667925"
      ],
      "text/plain": [
       "[1] 0.9968018"
      ]
     },
     "metadata": {},
     "output_type": "display_data"
    },
    {
     "data": {
      "text/html": [
       "2"
      ],
      "text/latex": [
       "2"
      ],
      "text/markdown": [
       "2"
      ],
      "text/plain": [
       "[1] 2"
      ]
     },
     "metadata": {},
     "output_type": "display_data"
    }
   ],
   "source": [
    "ratioWV <- DCMAnimatedControl1[[1]][\"thetaW\",\"estimate\"]/DCMAnimatedControl1[[1]][\"thetaV\",\"estimate\"]; ratioWV\n",
    "simulationParametersAnimated[[\"bw\"]]/simulationParametersAnimated[[\"bv\"]]"
   ]
  },
  {
   "cell_type": "markdown",
   "metadata": {},
   "source": [
    "+ Let's fix the preferences for waiting and in-vehicle times, so we can properly recover the scale parameter of the time perception function for waiting and in-vehicle times."
   ]
  },
  {
   "cell_type": "code",
   "execution_count": 42,
   "metadata": {},
   "outputs": [
    {
     "data": {
      "text/plain": [
       "[[1]]\n",
       "         estimate         se    ttest\n",
       "thetaAV 1.0211052 0.04100734 24.90055\n",
       "thetaAW 0.5271709 0.02319161 22.73111\n",
       "\n",
       "[[2]]\n",
       "Maximum Likelihood estimation\n",
       "BHHH maximisation, 13 iterations\n",
       "Return code 2: successive function values within tolerance limit\n",
       "Log-Likelihood: -1318.044 (2 free parameter(s))\n",
       "Estimate(s): 1.021105 0.5271709 \n"
      ]
     },
     "metadata": {},
     "output_type": "display_data"
    }
   ],
   "source": [
    "simulationParametersAnimatedControl2 <- simulationParametersAnimatedControl1 \n",
    "\n",
    "simulationParametersAnimatedControl2[[\"cw\"]] <- simulationParametersAnimated[[\"cw\"]]\n",
    "simulationParametersAnimatedControl2[[\"cv\"]] <- simulationParametersAnimated[[\"cv\"]]\n",
    "\n",
    "simulationParametersAnimatedControl2[[\"bw\"]] <- DCMNumeric2[[1]][\"thetaW\",\"estimate\"]\n",
    "simulationParametersAnimatedControl2[[\"bv\"]] <- DCMNumeric2[[1]][\"thetaV\",\"estimate\"]\n",
    "\n",
    "logitParametersAnimatedControl2 <- c(thetaW = NULL, thetaV = NULL, thetaT= NULL ,constant = NULL\n",
    "                      , thetaPW = NULL,thetaPV = NULL, thetaAWT = NULL, thetaAV = 1, thetaAW = 1)\n",
    "\n",
    "DCMAnimatedControl2 <- LogitTimePerception(DCMData = subset(cdataAnimated, experimentalCondition == \"control\")\n",
    "                                                     , logitParameters = logitParametersAnimatedControl2, method = \"BHHH\"\n",
    "                                , simulationParameters = simulationParametersAnimatedControl2\n",
    "                                , sameCurvature = FALSE, sameTimeWeighting = FALSE)\n",
    "DCMAnimatedControl2"
   ]
  },
  {
   "cell_type": "code",
   "execution_count": 43,
   "metadata": {},
   "outputs": [
    {
     "data": {
      "text/html": [
       "0.516274821188675"
      ],
      "text/latex": [
       "0.516274821188675"
      ],
      "text/markdown": [
       "0.516274821188675"
      ],
      "text/plain": [
       "[1] 0.5162748"
      ]
     },
     "metadata": {},
     "output_type": "display_data"
    },
    {
     "data": {
      "text/html": [
       "0.5"
      ],
      "text/latex": [
       "0.5"
      ],
      "text/markdown": [
       "0.5"
      ],
      "text/plain": [
       "[1] 0.5"
      ]
     },
     "metadata": {},
     "output_type": "display_data"
    }
   ],
   "source": [
    "ratioAWAV <- DCMAnimatedControl2[[1]][\"thetaAW\",\"estimate\"]/DCMAnimatedControl2[[1]][\"thetaAV\",\"estimate\"]; ratioAWAV\n",
    "simulationParametersAnimated[[\"aw\"]]/simulationParametersAnimated[[\"av\"]]"
   ]
  },
  {
   "cell_type": "markdown",
   "metadata": {},
   "source": [
    "+ The ratio between the scale parameters of the time perception functions is unsensitive to the value of the exponents of the time perception function or the scale of the preference parameters."
   ]
  },
  {
   "cell_type": "code",
   "execution_count": 44,
   "metadata": {},
   "outputs": [
    {
     "data": {
      "text/plain": [
       "[[1]]\n",
       "        estimate        se    ttest\n",
       "thetaAV 4.508365 0.1805021 24.97680\n",
       "thetaAW 2.319792 0.1028907 22.54618\n",
       "\n",
       "[[2]]\n",
       "Maximum Likelihood estimation\n",
       "BHHH maximisation, 6 iterations\n",
       "Return code 2: successive function values within tolerance limit\n",
       "Log-Likelihood: -1341.603 (2 free parameter(s))\n",
       "Estimate(s): 4.508365 2.319792 \n"
      ]
     },
     "metadata": {},
     "output_type": "display_data"
    }
   ],
   "source": [
    "simulationParametersAnimatedControl3 <- simulationParametersAnimatedControl2\n",
    "\n",
    "factorExponents <- 0.5\n",
    "simulationParametersAnimatedControl3[[\"cw\"]] <- simulationParametersAnimated$cw*factorExponents\n",
    "simulationParametersAnimatedControl3[[\"cv\"]] <- simulationParametersAnimated$cv*factorExponents\n",
    "\n",
    "errorScaleParameter <- 0.8\n",
    "simulationParametersAnimatedControl3[[\"bw\"]] <- DCMNumeric2[[1]][\"thetaW\",\"estimate\"]*errorScaleParameter\n",
    "simulationParametersAnimatedControl3[[\"bv\"]] <- DCMNumeric2[[1]][\"thetaV\",\"estimate\"]*errorScaleParameter\n",
    "\n",
    "logitParametersAnimatedControl3 <- c(thetaW = NULL, thetaV = NULL,constant = NULL\n",
    "                      , thetaPW = NULL,thetaPV = NULL, thetaAV = 1, thetaAW = 1)\n",
    "\n",
    "DCMAnimatedControl3 <- LogitTimePerception(DCMData = subset(cdataAnimated, experimentalCondition == \"control\")\n",
    "                                                     , logitParameters = logitParametersAnimatedControl3, method = \"BHHH\"\n",
    "                                , simulationParameters = simulationParametersAnimatedControl3\n",
    "                                , sameCurvature = FALSE, sameTimeWeighting = FALSE)\n",
    "DCMAnimatedControl3"
   ]
  },
  {
   "cell_type": "code",
   "execution_count": 45,
   "metadata": {},
   "outputs": [
    {
     "data": {
      "text/html": [
       "0.514552938527537"
      ],
      "text/latex": [
       "0.514552938527537"
      ],
      "text/markdown": [
       "0.514552938527537"
      ],
      "text/plain": [
       "[1] 0.5145529"
      ]
     },
     "metadata": {},
     "output_type": "display_data"
    },
    {
     "data": {
      "text/html": [
       "0.5"
      ],
      "text/latex": [
       "0.5"
      ],
      "text/markdown": [
       "0.5"
      ],
      "text/plain": [
       "[1] 0.5"
      ]
     },
     "metadata": {},
     "output_type": "display_data"
    }
   ],
   "source": [
    "ratioAWAV <- DCMAnimatedControl3[[1]][\"thetaAW\",\"estimate\"]/DCMAnimatedControl3[[1]][\"thetaAV\",\"estimate\"]; ratioAWAV\n",
    "simulationParametersAnimated[[\"aw\"]]/simulationParametersAnimated[[\"av\"]]"
   ]
  },
  {
   "cell_type": "markdown",
   "metadata": {},
   "source": [
    "### - Animated Condition (Treatment: Known Waiting Time)"
   ]
  },
  {
   "cell_type": "markdown",
   "metadata": {},
   "source": [
    "+ Let's assume that the scale parameter of the error term is the same for both experiments. \n",
    "The parameters associated to in-vehicle time can be assumed the same in the control and treatment conditions. "
   ]
  },
  {
   "cell_type": "code",
   "execution_count": 46,
   "metadata": {},
   "outputs": [
    {
     "data": {
      "text/plain": [
       "[[1]]\n",
       "         estimate         se    ttest\n",
       "thetaAWT 1.130355 0.07335663 15.40904\n",
       "\n",
       "[[2]]\n",
       "Maximum Likelihood estimation\n",
       "BHHH maximisation, 13 iterations\n",
       "Return code 2: successive function values within tolerance limit\n",
       "Log-Likelihood: -172.8304 (1 free parameter(s))\n",
       "Estimate(s): 1.130355 \n"
      ]
     },
     "metadata": {},
     "output_type": "display_data"
    }
   ],
   "source": [
    "simulationParametersAnimatedTreatment1 <- simulationParametersAnimated\n",
    "\n",
    "\n",
    "#simulationParametersAnimatedTreatment1[[\"aw\"]] <- simulationParametersAnimated[[\"aw\"]] \n",
    "#simulationParametersAnimatedTreatment1[[\"av\"]] <- simulationParametersAnimated[[\"av\"]] \n",
    "\n",
    "simulationParametersAnimatedTreatment1[[\"aw\"]] <- DCMAnimatedControl3[[1]][\"thetaAW\",\"estimate\"]\n",
    "simulationParametersAnimatedTreatment1[[\"av\"]] <- DCMAnimatedControl3[[1]][\"thetaAV\",\"estimate\"]\n",
    "\n",
    "\n",
    "simulationParametersAnimatedTreatment1[[\"bw\"]]<- simulationParametersAnimated[[\"bw\"]]\n",
    "simulationParametersAnimatedTreatment1[[\"bv\"]] <- simulationParametersAnimated[[\"bv\"]] \n",
    "\n",
    "#simulationParametersAnimatedTreatment1[[\"bw\"]]<- DCMNumeric2[[1]][\"thetaW\",\"estimate\"]\n",
    "#simulationParametersAnimatedTreatment1[[\"bv\"]] <- DCMNumeric2[[1]][\"thetaV\",\"estimate\"]\n",
    "\n",
    "simulationParametersAnimatedTreatment1[[\"cw\"]] <- simulationParametersAnimated[[\"cw\"]]\n",
    "simulationParametersAnimatedTreatment1[[\"cv\"]] <- simulationParametersAnimated[[\"cv\"]]\n",
    "\n",
    "\n",
    "logitParametersAnimatedTreatment1 <- c(thetaW = NULL, thetaV = NULL,constant = NULL\n",
    "                      , thetaPW = NULL,thetaPV = NULL, thetaAV = NULL, thetaAW = NULL, thetaAWT=0)\n",
    "\n",
    "\n",
    "DCMAnimatedTreatment1 <- LogitTimePerception(DCMData = subset(cdataAnimated, experimentalCondition == \"treatment\")\n",
    "                                                     , logitParameters = logitParametersAnimatedTreatment1, method = \"BHHH\"\n",
    "                                , simulationParameters = simulationParametersAnimatedTreatment1\n",
    "                                , sameCurvature = FALSE, sameTimeWeighting = FALSE)\n",
    "DCMAnimatedTreatment1"
   ]
  },
  {
   "cell_type": "markdown",
   "metadata": {},
   "source": [
    "+ The ratio between the linear parameters of waiting and in-vehicle times in the time perception function in the treatment condition can be properly recovered."
   ]
  },
  {
   "cell_type": "code",
   "execution_count": 47,
   "metadata": {},
   "outputs": [
    {
     "data": {
      "text/html": [
       "0.487265704923249"
      ],
      "text/latex": [
       "0.487265704923249"
      ],
      "text/markdown": [
       "0.487265704923249"
      ],
      "text/plain": [
       "[1] 0.4872657"
      ]
     },
     "metadata": {},
     "output_type": "display_data"
    },
    {
     "data": {
      "text/html": [
       "0.431073077883557"
      ],
      "text/latex": [
       "0.431073077883557"
      ],
      "text/markdown": [
       "0.431073077883557"
      ],
      "text/plain": [
       "[1] 0.4310731"
      ]
     },
     "metadata": {},
     "output_type": "display_data"
    }
   ],
   "source": [
    "DCMAnimatedTreatment1[[1]][\"thetaAWT\",\"estimate\"]/DCMAnimatedControl3[[1]][\"thetaAW\",\"estimate\"]\n",
    "simulationParametersAnimatedTreatment1[[\"awt\"]]/simulationParametersAnimatedTreatment1[[\"aw\"]]"
   ]
  },
  {
   "cell_type": "markdown",
   "metadata": {},
   "source": [
    "+ The difference between the control and treatment condition might be also given by a higher sensitivity of participants to waiting time. That is more an effect over the preference than the time perception function (Antonides et al., 2006)"
   ]
  },
  {
   "cell_type": "code",
   "execution_count": 55,
   "metadata": {},
   "outputs": [
    {
     "data": {
      "text/plain": [
       "[[1]]\n",
       "        estimate         se     ttest\n",
       "thetaW -2.974554 0.06324413 -47.03288\n",
       "\n",
       "[[2]]\n",
       "Maximum Likelihood estimation\n",
       "BHHH maximisation, 44 iterations\n",
       "Return code 2: successive function values within tolerance limit\n",
       "Log-Likelihood: -172.8304 (1 free parameter(s))\n",
       "Estimate(s): -2.974554 \n"
      ]
     },
     "metadata": {},
     "output_type": "display_data"
    }
   ],
   "source": [
    "simulationParametersAnimatedTreatment2 <- simulationParametersAnimatedTreatment1\n",
    "\n",
    "simulationParametersAnimatedTreatment2[[\"awt\"]]<- 0\n",
    "\n",
    "logitParametersAnimatedTreatment2 <- c(thetaW = 1, thetaV = NULL,constant = NULL\n",
    "                      , thetaPW = NULL,thetaPV = NULL, thetaAV = NULL, thetaAW = NULL, thetaAWT=NULL)\n",
    "\n",
    "#logitParametersAnimatedTreatment1 <- logitParametersAnimatedControl1\n",
    "\n",
    "DCMAnimatedTreatment2 <- LogitTimePerception(DCMData = subset(cdataAnimated, experimentalCondition == \"treatment\")\n",
    "                                                     , logitParameters = logitParametersAnimatedTreatment2, method = \"BHHH\"\n",
    "                                , simulationParameters = simulationParametersAnimatedTreatment2\n",
    "                                , sameCurvature = FALSE, sameTimeWeighting = FALSE)\n",
    "DCMAnimatedTreatment2"
   ]
  },
  {
   "cell_type": "markdown",
   "metadata": {},
   "source": [
    "+ It is not possible to isolate the effect in the scale parameter of perception or the preference. But in any case, the new ratio between waiting and in-vehicle times is given below"
   ]
  },
  {
   "cell_type": "code",
   "execution_count": 56,
   "metadata": {},
   "outputs": [
    {
     "data": {
      "text/html": [
       "2.97455380537476"
      ],
      "text/latex": [
       "2.97455380537476"
      ],
      "text/markdown": [
       "2.97455380537476"
      ],
      "text/plain": [
       "[1] 2.974554"
      ]
     },
     "metadata": {},
     "output_type": "display_data"
    },
    {
     "data": {
      "text/html": [
       "2"
      ],
      "text/latex": [
       "2"
      ],
      "text/markdown": [
       "2"
      ],
      "text/plain": [
       "[1] 2"
      ]
     },
     "metadata": {},
     "output_type": "display_data"
    }
   ],
   "source": [
    "ratioWV <- DCMAnimatedTreatment2[[1]][\"thetaW\",\"estimate\"]/simulationParametersAnimatedTreatment2[[\"bv\"]]; ratioWV\n",
    "simulationParametersAnimated[[\"bw\"]]/simulationParametersAnimated[[\"bv\"]]"
   ]
  },
  {
   "cell_type": "markdown",
   "metadata": {},
   "source": [
    "+ If the effect of time perception is not controlled, the ratio between the preferences for waiting and in-vechile times in the numeric and animated experiment are similar, but just for luck"
   ]
  },
  {
   "cell_type": "code",
   "execution_count": 60,
   "metadata": {},
   "outputs": [
    {
     "data": {
      "text/plain": [
       "[[1]]\n",
       "        estimate        se     ttest\n",
       "thetaW -3.227623 0.1734516 -18.60821\n",
       "thetaV -1.585296 0.1304079 -12.15644\n",
       "\n",
       "[[2]]\n",
       "Maximum Likelihood estimation\n",
       "BHHH maximisation, 9 iterations\n",
       "Return code 2: successive function values within tolerance limit\n",
       "Log-Likelihood: -129.9153 (2 free parameter(s))\n",
       "Estimate(s): -3.227623 -1.585296 \n"
      ]
     },
     "metadata": {},
     "output_type": "display_data"
    }
   ],
   "source": [
    "simulationParametersAnimatedTreatment3 <- simulationParametersAnimatedTreatment2\n",
    "\n",
    "simulationParametersAnimatedTreatment3[[\"cw\"]]<- 1\n",
    "simulationParametersAnimatedTreatment3[[\"cv\"]]<- 1\n",
    "\n",
    "simulationParametersAnimatedTreatment3[[\"aw\"]]<- 1\n",
    "simulationParametersAnimatedTreatment3[[\"av\"]]<- 1\n",
    "\n",
    "logitParametersAnimatedTreatment3 <- c(thetaW = 1, thetaV = 1,constant = NULL\n",
    "                      , thetaPW = NULL,thetaPV = NULL, thetaAV = NULL, thetaAW = NULL, thetaAWT=NULL)\n",
    "\n",
    "\n",
    "DCMAnimatedTreatment3 <- LogitTimePerception(DCMData = subset(cdataAnimated, experimentalCondition == \"treatment\")\n",
    "                                                     , logitParameters = logitParametersAnimatedTreatment3, method = \"BHHH\"\n",
    "                                , simulationParameters = simulationParametersAnimatedTreatment3\n",
    "                                , sameCurvature = FALSE, sameTimeWeighting = FALSE)\n",
    "DCMAnimatedTreatment3"
   ]
  },
  {
   "cell_type": "code",
   "execution_count": 61,
   "metadata": {},
   "outputs": [
    {
     "data": {
      "text/html": [
       "2.03597458510887"
      ],
      "text/latex": [
       "2.03597458510887"
      ],
      "text/markdown": [
       "2.03597458510887"
      ],
      "text/plain": [
       "[1] 2.035975"
      ]
     },
     "metadata": {},
     "output_type": "display_data"
    },
    {
     "data": {
      "text/html": [
       "2"
      ],
      "text/latex": [
       "2"
      ],
      "text/markdown": [
       "2"
      ],
      "text/plain": [
       "[1] 2"
      ]
     },
     "metadata": {},
     "output_type": "display_data"
    }
   ],
   "source": [
    "ratioWV <- DCMAnimatedTreatment3[[1]][\"thetaW\",\"estimate\"]/DCMAnimatedTreatment3[[1]][\"thetaV\",\"estimate\"]; ratioWV\n",
    "simulationParametersAnimated[[\"bw\"]]/simulationParametersAnimated[[\"bv\"]]"
   ]
  },
  {
   "cell_type": "code",
   "execution_count": null,
   "metadata": {},
   "outputs": [],
   "source": []
  }
 ],
 "metadata": {
  "kernelspec": {
   "display_name": "R",
   "language": "R",
   "name": "ir"
  },
  "language_info": {
   "codemirror_mode": "r",
   "file_extension": ".r",
   "mimetype": "text/x-r-source",
   "name": "R",
   "pygments_lexer": "r",
   "version": "3.5.0"
  }
 },
 "nbformat": 4,
 "nbformat_minor": 2
}
